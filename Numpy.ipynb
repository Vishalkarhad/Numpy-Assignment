{
  "nbformat": 4,
  "nbformat_minor": 0,
  "metadata": {
    "colab": {
      "provenance": []
    },
    "kernelspec": {
      "name": "python3",
      "display_name": "Python 3"
    },
    "language_info": {
      "name": "python"
    }
  },
  "cells": [
    {
      "cell_type": "markdown",
      "source": [
        "1. What is a Python library? Why do we use Python libraries?\n",
        "\n",
        "A Python library is a collection of pre-written code, functions, and modules that helps you perform common tasks or solve specific problems without having to write the code from scratch. Think of it as a toolbox with tools ready for use.\n",
        "\n",
        "1. **Efficiency**: Libraries save time by providing reusable code for common tasks. Instead of reinventing the wheel, you can use existing solutions that have been tested and optimized.\n",
        "\n",
        "2. **Productivity**: Libraries often come with extensive documentation and examples, which can help you get things done faster and learn new techniques.\n",
        "\n",
        "3. **Community Support**: Popular libraries are often supported by a large community of developers who contribute to the library, fix bugs, and provide updates. This can be very helpful for troubleshooting and improving your code.\n",
        "\n",
        "4. **Specialization**: Some libraries are designed for specific tasks or fields, such as data analysis (e.g., Pandas), machine learning (e.g., TensorFlow, scikit-learn), web development (e.g., Django, Flask), and more. This specialization means you can leverage sophisticated functionality tailored to particular needs.\n",
        "\n",
        "5. **Consistency**: Using libraries that are well-tested and widely used helps ensure that your code adheres to best practices and standards, which can improve its reliability and maintainability.\n",
        "\n",
        "In summary, Python libraries are essential tools that enhance productivity, ensure code quality, and provide specialized functionality, allowing you to focus more on solving problems rather than writing boilerplate code."
      ],
      "metadata": {
        "id": "rRDlT8CQyTo-"
      }
    },
    {
      "cell_type": "markdown",
      "source": [
        "2. What is the difference between Numpy array and List?\n",
        "\n",
        "Numpy arrays and Python lists are both used to store collections of items, but they have different characteristics and are suited for different tasks.\n",
        "\n",
        "### 1. **Performance:**\n",
        "\n",
        "- **Numpy Array**: Numpy arrays are implemented in C and are highly optimized for performance. They support vectorized operations, meaning operations are performed on entire arrays at once without the need for explicit loops in Python. This results in faster computations, especially with large datasets.\n",
        "\n",
        "- **Python List**: Python lists are more general-purpose and are not optimized for performance with numerical computations. Operations on lists are typically slower, especially for large-scale mathematical operations, as they involve explicit loops in Python.\n",
        "\n",
        "### 2. **Data Types:**\n",
        "\n",
        "- **Numpy Array**: Numpy arrays are homogeneous, meaning all elements must be of the same data type. This uniformity allows Numpy to perform operations more efficiently and is particularly useful for numerical and scientific computations.\n",
        "\n",
        "- **Python List**: Python lists are heterogeneous, meaning they can contain elements of different types (e.g., integers, strings, objects). This flexibility can be useful but comes with performance trade-offs for numerical operations.\n",
        "\n",
        "### 3. **Memory Usage:**\n",
        "\n",
        "- **Numpy Array**: Numpy arrays are more memory-efficient than Python lists. They use less memory because they store data in a contiguous block of memory and are optimized for space.\n",
        "\n",
        "- **Python List**: Python lists have higher memory overhead because they store additional information for each element (e.g., type information and references), which can lead to higher memory usage.\n",
        "\n",
        "### 4. **Functionality:**\n",
        "\n",
        "- **Numpy Array**: Numpy provides a wide range of functions and operations specifically for numerical computations, such as element-wise operations, matrix manipulations, statistical functions, and linear algebra operations. It also supports multidimensional arrays (i.e., arrays with more than one dimension).\n",
        "\n",
        "- **Python List**: Python lists offer basic operations such as appending, inserting, and removing elements. They do not natively support advanced numerical operations, so you would need to use additional libraries or write custom code for these tasks.\n",
        "\n",
        "### 5. **Indexing and Slicing:**\n",
        "\n",
        "- **Numpy Array**: Numpy arrays support advanced indexing and slicing techniques, including boolean indexing and fancy indexing. They also support slicing in multiple dimensions.\n",
        "\n",
        "- **Python List**: Python lists support basic indexing and slicing, but they do not offer the advanced slicing and indexing capabilities that Numpy arrays do.\n",
        "\n",
        "### 6. **Size and Shape:**\n",
        "\n",
        "- **Numpy Array**: Numpy arrays can be multi-dimensional and have a defined shape. Operations can be performed across different dimensions, which is useful for tasks such as image processing and scientific computations.\n",
        "\n",
        "- **Python List**: Python lists are one-dimensional by default, though you can create nested lists to simulate multi-dimensional structures. Operations across nested lists can be cumbersome compared to Numpy arrays.\n"
      ],
      "metadata": {
        "id": "y6srxHM0ypfV"
      }
    },
    {
      "cell_type": "markdown",
      "source": [
        "3. Find the shape, size and dimension of the following array?\n",
        "\n",
        "[[1, 2, 3, 4]\n",
        "\n",
        "[5, 6, 7, 8],\n",
        "\n",
        "[9, 10, 11, 12]]\n",
        "\n",
        "Answer\n",
        "\n",
        "- **Shape**: (3, 4)\n",
        "- **Size**: 12\n",
        "- **Dimension**: 2"
      ],
      "metadata": {
        "id": "KVqWCMlnzUXo"
      }
    },
    {
      "cell_type": "markdown",
      "source": [
        "4. Write python code to access the first row of the following array?\n",
        "\n",
        "[[1, 2, 3, 4]\n",
        "\n",
        "[5, 6, 7, 8],\n",
        "\n",
        "[9, 10, 11, 12]]\n",
        "\n"
      ],
      "metadata": {
        "id": "93kLKdr3z7hj"
      }
    },
    {
      "cell_type": "code",
      "source": [
        "import numpy as np\n",
        "array = np.array([\n",
        "    [1, 2, 3, 4],\n",
        "    [5, 6, 7, 8],\n",
        "    [9, 10, 11, 12]\n",
        "])\n",
        "\n",
        "first_row = array[0]\n",
        "\n",
        "print(\"First row:\", first_row)\n"
      ],
      "metadata": {
        "colab": {
          "base_uri": "https://localhost:8080/"
        },
        "id": "K4Fb6PBu0C-M",
        "outputId": "577f2e4d-ae56-41b0-b98f-6619c90002b6"
      },
      "execution_count": 1,
      "outputs": [
        {
          "output_type": "stream",
          "name": "stdout",
          "text": [
            "First row: [1 2 3 4]\n"
          ]
        }
      ]
    },
    {
      "cell_type": "markdown",
      "source": [
        "5. How do you access the element at the third row and fourth column from the given numpy array?\n",
        "\n",
        "[[1, 2, 3, 4]\n",
        "\n",
        "[5, 6, 7, 8],\n",
        "\n",
        "[9, 10, 11, 12]]"
      ],
      "metadata": {
        "id": "3d11agbK1tFX"
      }
    },
    {
      "cell_type": "code",
      "source": [
        "import numpy as np\n",
        "\n",
        "# Define the array\n",
        "array = np.array([\n",
        "    [1, 2, 3, 4],\n",
        "    [5, 6, 7, 8],\n",
        "    [9, 10, 11, 12]\n",
        "])\n",
        "\n",
        "# Access the element at the third row and fourth column\n",
        "element = array[2, 3]\n",
        "\n",
        "print(\"Element at third row and fourth column:\", element)"
      ],
      "metadata": {
        "colab": {
          "base_uri": "https://localhost:8080/"
        },
        "id": "w8XvgwaY1PjD",
        "outputId": "1099e325-c859-496c-bd43-b293cf236779"
      },
      "execution_count": 2,
      "outputs": [
        {
          "output_type": "stream",
          "name": "stdout",
          "text": [
            "Element at third row and fourth column: 12\n"
          ]
        }
      ]
    },
    {
      "cell_type": "markdown",
      "source": [
        "6. Write code to extract all odd-indexed elements from the given numpy array?\n",
        "\n",
        "[[1, 2, 3, 4]\n",
        "\n",
        "[5, 6, 7, 8],\n",
        "\n",
        "[9, 10, 11, 12]]"
      ],
      "metadata": {
        "id": "PK-xNeTK2C3a"
      }
    },
    {
      "cell_type": "markdown",
      "source": [],
      "metadata": {
        "id": "mNmpbo-a153D"
      }
    },
    {
      "cell_type": "code",
      "source": [
        "import numpy as np\n",
        "array = np.array([\n",
        "    [1, 2, 3, 4],\n",
        "    [5, 6, 7, 8],\n",
        "    [9, 10, 11, 12]\n",
        "])\n",
        "\n",
        "odd_indexed_elements = array[1:, 1:]\n",
        "\n",
        "print(\"Odd-indexed elements:\\n\", odd_indexed_elements)\n"
      ],
      "metadata": {
        "colab": {
          "base_uri": "https://localhost:8080/"
        },
        "id": "E2J71vrR2New",
        "outputId": "f8e7609a-903b-4f0c-d419-c030bf53c1be"
      },
      "execution_count": 3,
      "outputs": [
        {
          "output_type": "stream",
          "name": "stdout",
          "text": [
            "Odd-indexed elements:\n",
            " [[ 6  7  8]\n",
            " [10 11 12]]\n"
          ]
        }
      ]
    },
    {
      "cell_type": "markdown",
      "source": [
        "7. How can you generate a random 3x3 matrix with values between 0 and 1?"
      ],
      "metadata": {
        "id": "_4oYPVhM28oH"
      }
    },
    {
      "cell_type": "code",
      "source": [
        "import numpy as np\n",
        "\n",
        "matrix = np.random.rand(3, 3)\n",
        "\n",
        "print(\"Random 3x3 matrix with values between 0 and 1:\\n\", matrix)\n"
      ],
      "metadata": {
        "colab": {
          "base_uri": "https://localhost:8080/"
        },
        "id": "sWLQJe9w3TV8",
        "outputId": "db064d8f-6fdc-43d5-dca0-0186ff254c2b"
      },
      "execution_count": 4,
      "outputs": [
        {
          "output_type": "stream",
          "name": "stdout",
          "text": [
            "Random 3x3 matrix with values between 0 and 1:\n",
            " [[0.62797385 0.23828016 0.92869106]\n",
            " [0.97067381 0.59286279 0.66604988]\n",
            " [0.6742408  0.20074735 0.8069367 ]]\n"
          ]
        }
      ]
    },
    {
      "cell_type": "markdown",
      "source": [
        "8. Describe the difference between np.random.rand and np.random.randn?"
      ],
      "metadata": {
        "id": "w2DNNQRU3ZPz"
      }
    },
    {
      "cell_type": "markdown",
      "source": [
        "\n",
        "- **Distribution**:\n",
        "  - `np.random.rand`: Uniform distribution over \\([0, 1)\\).\n",
        "  - `np.random.randn`: Standard normal distribution (Gaussian) with mean \\(0\\) and standard deviation \\(1\\).\n",
        "\n",
        "- **Range of Values**:\n",
        "  - `np.random.rand`: Values are always between \\(0\\) and \\(1\\).\n",
        "  - `np.random.randn`: Values can be any real number, following a bell curve centered around \\(0\\).\n",
        "\n",
        "- **Use Cases**:\n",
        "  - `np.random.rand`: Use when you need values in a specific range (e.g., for simulations or when normalizing data).\n",
        "  - `np.random.randn`: Use when you need values with a normal distribution, such as for statistical modeling or simulations that assume normality."
      ],
      "metadata": {
        "id": "ai3DzHNI4WIq"
      }
    },
    {
      "cell_type": "markdown",
      "source": [
        "9. Write code to increase the dimension of the following array?\n",
        "\n",
        "[[1, 2, 3, 4]\n",
        "\n",
        "[5, 6, 7, 8],\n",
        "\n",
        "[9, 10, 11, 12]]"
      ],
      "metadata": {
        "id": "lOXJGJoc5HQE"
      }
    },
    {
      "cell_type": "code",
      "source": [
        "\n",
        "expanded_dims_array = np.expand_dims(array, axis=2)\n",
        "\n",
        "print(\"Array with expanded dimensions:\\n\", expanded_dims_array)\n",
        "print(\"New shape:\", expanded_dims_array.shape)\n"
      ],
      "metadata": {
        "colab": {
          "base_uri": "https://localhost:8080/"
        },
        "id": "Me9AFbjp5Kk6",
        "outputId": "751ad8fd-e10e-45ba-c935-34f257d47331"
      },
      "execution_count": 6,
      "outputs": [
        {
          "output_type": "stream",
          "name": "stdout",
          "text": [
            "Array with expanded dimensions:\n",
            " [[[ 1]\n",
            "  [ 2]\n",
            "  [ 3]\n",
            "  [ 4]]\n",
            "\n",
            " [[ 5]\n",
            "  [ 6]\n",
            "  [ 7]\n",
            "  [ 8]]\n",
            "\n",
            " [[ 9]\n",
            "  [10]\n",
            "  [11]\n",
            "  [12]]]\n",
            "New shape: (3, 4, 1)\n"
          ]
        }
      ]
    },
    {
      "cell_type": "markdown",
      "source": [
        "10. How to transpose the following array in NumPy?\n",
        "\n",
        "[[1, 2, 3, 4]\n",
        "\n",
        "[5, 6, 7, 8],\n",
        "\n",
        "[9, 10, 11, 12]]"
      ],
      "metadata": {
        "id": "4CN01s3s5R8D"
      }
    },
    {
      "cell_type": "code",
      "source": [
        "import numpy as np\n",
        "\n",
        "array = np.array([\n",
        "    [1, 2, 3, 4],\n",
        "    [5, 6, 7, 8],\n",
        "    [9, 10, 11, 12]\n",
        "])\n",
        "\n",
        "transposed_array = np.transpose(array)\n",
        "\n",
        "print(\"Transposed array using np.transpose:\\n\", transposed_array)\n"
      ],
      "metadata": {
        "colab": {
          "base_uri": "https://localhost:8080/"
        },
        "id": "KW4Sljm35Yfg",
        "outputId": "a8943313-7073-4aa1-f2b0-4ab07268c836"
      },
      "execution_count": 8,
      "outputs": [
        {
          "output_type": "stream",
          "name": "stdout",
          "text": [
            "Transposed array using np.transpose:\n",
            " [[ 1  5  9]\n",
            " [ 2  6 10]\n",
            " [ 3  7 11]\n",
            " [ 4  8 12]]\n"
          ]
        }
      ]
    },
    {
      "cell_type": "markdown",
      "source": [
        "11. Consider the following matrix:\n",
        "\n",
        "Matrix A2 [[1, 2, 3, 4] [5, 6, 7, 8],[9, 10, 11, 12]]\n",
        "\n",
        "Matrix B2 [[1, 2, 3, 4] [5, 6, 7, 8],[9, 10, 11, 12]]\n",
        "\n",
        "\n",
        "Perform the following operation using Python1\n",
        "\n",
        "1. Index wiLe multiplication\n",
        "2. Matrix multiplication\n",
        "3. Add both the matrics\n",
        "4. Subtract matrix B from A\n",
        "5. Divide Matrix B by A\n"
      ],
      "metadata": {
        "id": "HTIzzoKl52FJ"
      }
    },
    {
      "cell_type": "code",
      "source": [
        "import numpy as np\n",
        "\n",
        "# Define the matrices\n",
        "A = np.array([[1, 2, 3, 4], [5, 6, 7, 8], [9, 10, 11, 12]])\n",
        "B = np.array([[1, 2, 3, 4], [5, 6, 7, 8], [9, 10, 11, 12]])\n",
        "\n",
        "# Index-wise Multiplication\n",
        "elementwise_multiplication = A * B\n",
        "print(\"Element-wise Multiplication:\")\n",
        "print(elementwise_multiplication)\n",
        "\n",
        "# Matrix Multiplication\n",
        "matrix_multiplication = A @ B.T  # B.T is the transpose of B\n",
        "print(\"Matrix Multiplication:\")\n",
        "print(matrix_multiplication)\n",
        "\n",
        "# Addition\n",
        "addition = A + B\n",
        "print(\"Addition:\")\n",
        "print(addition)\n",
        "\n",
        "# Subtraction\n",
        "subtraction = A - B\n",
        "print(\"Subtraction:\")\n",
        "print(subtraction)\n",
        "\n",
        "# Division\n",
        "epsilon = 1e-10\n",
        "division = np.divide(A, B + epsilon)  # Adding epsilon to avoid division by zero\n",
        "print(\"Division:\")\n",
        "print(division)\n"
      ],
      "metadata": {
        "colab": {
          "base_uri": "https://localhost:8080/"
        },
        "id": "s2tK2kc96m9_",
        "outputId": "3dbd1a7a-b51d-4608-a6ee-70b5762d50ef"
      },
      "execution_count": 9,
      "outputs": [
        {
          "output_type": "stream",
          "name": "stdout",
          "text": [
            "Element-wise Multiplication:\n",
            "[[  1   4   9  16]\n",
            " [ 25  36  49  64]\n",
            " [ 81 100 121 144]]\n",
            "Matrix Multiplication:\n",
            "[[ 30  70 110]\n",
            " [ 70 174 278]\n",
            " [110 278 446]]\n",
            "Addition:\n",
            "[[ 2  4  6  8]\n",
            " [10 12 14 16]\n",
            " [18 20 22 24]]\n",
            "Subtraction:\n",
            "[[0 0 0 0]\n",
            " [0 0 0 0]\n",
            " [0 0 0 0]]\n",
            "Division:\n",
            "[[1. 1. 1. 1.]\n",
            " [1. 1. 1. 1.]\n",
            " [1. 1. 1. 1.]]\n"
          ]
        }
      ]
    },
    {
      "cell_type": "markdown",
      "source": [
        "12.  Which function in Numpy can be used to swap the byte order of an array?\n",
        "\n",
        "Answer\n",
        "\n",
        "numpy.ndarray.byteswap(inplace=False)\n"
      ],
      "metadata": {
        "id": "C2HtNnJR7MNT"
      }
    },
    {
      "cell_type": "markdown",
      "source": [
        "13.  What is the significance of the np.linalg.inv function?\n",
        "\n",
        "Answer\n",
        "13. Significance of the np.linalg.inv Function\n",
        "The np.linalg.inv function in NumPy is used to compute the inverse of a square matrix.\n",
        "\n",
        "Significance:\n",
        "\n",
        "1. Matrix Inversion:\n",
        "\n",
        "It provides the inverse of a matrix\n",
        "𝐴\n",
        "A, which is a matrix\n",
        "𝐴\n",
        "−\n",
        "1\n",
        "A\n",
        "−1\n",
        "  such that\n",
        "𝐴\n",
        "⋅\n",
        "𝐴\n",
        "−\n",
        "1\n",
        "=\n",
        "𝐼\n",
        "A⋅A\n",
        "−1\n",
        " =I, where\n",
        "𝐼\n",
        "I is the identity matrix.\n",
        "\n",
        "2. Solving Linear Systems: Inverse matrices are used to solve linear systems of equations. For example, if you have a system\n",
        "𝐴\n",
        "⋅\n",
        "𝑥\n",
        "=\n",
        "𝑏\n",
        "A⋅x=b, you can solve for\n",
        "𝑥\n",
        "x using\n",
        "𝑥\n",
        "=\n",
        "𝐴\n",
        "−\n",
        "1\n",
        "⋅\n",
        "𝑏\n",
        "x=A\n",
        "−1\n",
        " ⋅b.\n",
        "3. Matrix Analysis: The inverse is a key concept in various fields like linear algebra, control theory, and numerical analysis.\n",
        "\n"
      ],
      "metadata": {
        "id": "UtO9q_7j7h21"
      }
    },
    {
      "cell_type": "markdown",
      "source": [
        "14. What does the np.reshape function do, and how is it used?\n",
        "\n",
        "The np.reshape function in NumPy is used to change the shape of an array without changing its data.\n",
        "\n",
        "Functionality:\n",
        "Reshaping: It allows you to create a new view of the array with a different shape while keeping the same data.\n",
        "Order: You can specify the order of elements with the order parameter (C-style row-major order, F-style column-major order)."
      ],
      "metadata": {
        "id": "IimZpIlx8cF-"
      }
    },
    {
      "cell_type": "markdown",
      "source": [
        "15. What is broadcasting in Numpy?\n",
        "\n",
        "\n",
        "Broadcasting enables NumPy to perform element-wise operations on arrays of different shapes by stretching the smaller array across the larger array.\n",
        "It avoids the need for explicit loops and improves performance.\n",
        "\n",
        "\n",
        "Rules:\n",
        "\n",
        "1. If arrays have different dimensions, prepend the shape of the smaller array with ones until they have the same number of dimensions.\n",
        "2. The dimensions of the two arrays are compared element-wise. Two dimensions are compatible when:\n",
        "* They are equal, or\n",
        "* One of them is 1"
      ],
      "metadata": {
        "id": "MDPM5sm08ixy"
      }
    }
  ]
}